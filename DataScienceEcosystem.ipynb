{
 "cells": [
  {
   "cell_type": "markdown",
   "id": "af9fc1ba-005f-4410-b175-bd14a437f6a2",
   "metadata": {},
   "source": [
    "# Data Science Tools and Ecosystem"
   ]
  },
  {
   "cell_type": "markdown",
   "id": "0c04e7ef-83cd-476b-9cd2-5981095353e6",
   "metadata": {},
   "source": [
    "In this notebook, Data Science Tools and Ecosystem are summarized."
   ]
  },
  {
   "cell_type": "markdown",
   "id": "13ec03d7-1cca-4d8d-848d-6fc62da5f097",
   "metadata": {},
   "source": [
    "Some of the popular languages that Data Scientists use are:\n",
    "1. Python\n",
    "2. R\n",
    "3. SQL"
   ]
  },
  {
   "cell_type": "markdown",
   "id": "ec398969-18e9-415e-a382-9dfc5558e42e",
   "metadata": {},
   "source": [
    "Some of the commonly used libraries used by Data Scientists include:\n",
    "1. NumPy\n",
    "2. Pandas\n",
    "3. Matplotlib"
   ]
  },
  {
   "cell_type": "markdown",
   "id": "54092ab1-1dd9-4755-a07a-e6f97dd3e06f",
   "metadata": {},
   "source": [
    "| Data Science Tools |\n",
    "|---------------------|\n",
    "| Jupyter Notebook    |\n",
    "| RStudio             |\n",
    "| Visual Studio Code  |"
   ]
  },
  {
   "cell_type": "markdown",
   "id": "7d2c5eab-56ba-4e91-b809-34ab1f09078c",
   "metadata": {},
   "source": [
    "### Below are a few examples of evaluating arithmetic expressions in Python"
   ]
  },
  {
   "cell_type": "code",
   "execution_count": 1,
   "id": "cea28c8e-c707-4f94-aaa3-359444158ca1",
   "metadata": {},
   "outputs": [
    {
     "data": {
      "text/plain": [
       "17"
      ]
     },
     "execution_count": 1,
     "metadata": {},
     "output_type": "execute_result"
    }
   ],
   "source": [
    "# This a simple arithmetic expression to multiply then add integers.\n",
    "(3 * 4) + 5"
   ]
  },
  {
   "cell_type": "code",
   "execution_count": 2,
   "id": "de919ee1-9dad-4a4c-874f-fa8fa899475e",
   "metadata": {},
   "outputs": [
    {
     "data": {
      "text/plain": [
       "3.3333333333333335"
      ]
     },
     "execution_count": 2,
     "metadata": {},
     "output_type": "execute_result"
    }
   ],
   "source": [
    "# This will convert 200 minutes to hours by dividing by 60.\n",
    "200 / 60"
   ]
  },
  {
   "cell_type": "markdown",
   "id": "451ea40e-9151-4b24-923e-bc0007ef54f9",
   "metadata": {},
   "source": [
    "### Objectives\n",
    "- List popular languages for Data Science\n",
    "- Identify commonly used libraries\n",
    "- Summarize development tools\n",
    "- Demonstrate basic arithmetic operations"
   ]
  },
  {
   "cell_type": "markdown",
   "id": "875cf108-f44b-4dca-8dd3-df369102456d",
   "metadata": {},
   "source": [
    "## Author\n",
    "Lâm Nguyễn"
   ]
  },
  {
   "cell_type": "code",
   "execution_count": 7,
   "id": "c3a1e4e7-9c3b-4978-b433-d3e65d672480",
   "metadata": {},
   "outputs": [
    {
     "ename": "SyntaxError",
     "evalue": "invalid syntax (2297440610.py, line 2)",
     "output_type": "error",
     "traceback": [
      "\u001b[0;36m  Cell \u001b[0;32mIn[7], line 2\u001b[0;36m\u001b[0m\n\u001b[0;31m    git clone https://github.com/lamnguyen2407/Tools-for-Data-Science.git\u001b[0m\n\u001b[0m        ^\u001b[0m\n\u001b[0;31mSyntaxError\u001b[0m\u001b[0;31m:\u001b[0m invalid syntax\n"
     ]
    }
   ],
   "source": [
    "git clone https://github.com/lamnguyen2407/Tools-for-Data-Science.git\n",
    "cd Tools-for-Data-Science\n",
    "git add DSEcosystem  # Replace \"DSEcosystem\" with your actual file name\n",
    "git commit -m \"Add DSEcosystem file\"\n",
    "git push origin main"
   ]
  },
  {
   "cell_type": "code",
   "execution_count": null,
   "id": "154da73e-94da-47a2-8f2e-a217976cdf62",
   "metadata": {},
   "outputs": [],
   "source": []
  }
 ],
 "metadata": {
  "kernelspec": {
   "display_name": "Python 3 (ipykernel)",
   "language": "python",
   "name": "python3"
  },
  "language_info": {
   "codemirror_mode": {
    "name": "ipython",
    "version": 3
   },
   "file_extension": ".py",
   "mimetype": "text/x-python",
   "name": "python",
   "nbconvert_exporter": "python",
   "pygments_lexer": "ipython3",
   "version": "3.11.9"
  }
 },
 "nbformat": 4,
 "nbformat_minor": 5
}
